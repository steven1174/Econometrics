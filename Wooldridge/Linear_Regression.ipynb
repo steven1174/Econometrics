{
 "cells": [
  {
   "cell_type": "markdown",
   "metadata": {},
   "source": [
    "# Linear Regression"
   ]
  },
  {
   "cell_type": "markdown",
   "metadata": {},
   "source": [
    "- [Libraries](#Libraries)\n",
    "- [Functions](#Functions)\n",
    "- [Datasets](#Datasets)\n",
    "- [Basic Linear Regression](#Basic-Linear-Regression)\n",
    "- [Multiple Linear Regression](#Multiple-Linear-Regression)\n",
    "- [Multiple Linear Regression: Inference](#Multiple-Linear-Regression:-Inference)"
   ]
  },
  {
   "cell_type": "markdown",
   "metadata": {},
   "source": [
    "- [Libraries](#libraries)\n",
    "- [Functions](#functions)\n",
    "- [Datasets](#datasets)\n",
    "- [Basic Linear Regression](#basic-linear-regression)\n",
    "- [Multiple Linear Regression](#multiple-linear-regression)\n",
    "- [Multiple Linear Regression: Inference](#multiple-linear-regression-inference)"
   ]
  },
  {
   "cell_type": "markdown",
   "metadata": {},
   "source": [
    "# Libraries"
   ]
  },
  {
   "cell_type": "code",
   "execution_count": 1,
   "metadata": {},
   "outputs": [],
   "source": [
    "import numpy as np\n",
    "import pandas as pd\n",
    "\n",
    "import matplotlib.pyplot as plt\n",
    "\n",
    "import statsmodels.formula.api as smf\n",
    "import statsmodels.api as sm\n",
    "\n",
    "from patsy import dmatrices\n",
    "from scipy.stats import t\n"
   ]
  },
  {
   "cell_type": "markdown",
   "metadata": {},
   "source": [
    "# Functions"
   ]
  },
  {
   "cell_type": "markdown",
   "metadata": {},
   "source": [
    "<ul>\n",
    " <li>Function that plots t-distribution.</li>\n",
    "</ul>"
   ]
  },
  {
   "cell_type": "code",
   "execution_count": 2,
   "metadata": {},
   "outputs": [],
   "source": [
    "def t_test_graph(t_value:float,df:int,alpha:float,kind:str,h0_mean:float=0):\n",
    "    fig, ax = plt.subplots(figsize=(8, 6))\n",
    "\n",
    "    beta = r\"$\\beta_j$\"\n",
    "    df = np.round(df,0)\n",
    "\n",
    "    ax.axvline(x=0, color='k', linestyle='-.')\n",
    "    ax.axhline(y=0, color='k', linestyle='-.')\n",
    "    \n",
    "    # t-distribution\n",
    "    x = np.linspace(t.ppf(0.001, df, h0_mean),t.ppf(0.999, df, h0_mean),100)\n",
    "    y = t.pdf(x, df, h0_mean)\n",
    "    ax.plot(x, y, '-k', label='t-student pdf')\n",
    "\n",
    "    if kind == 'left':\n",
    "        ax.vlines(x= t.ppf(alpha, df, h0_mean), ymin = 0, ymax = t.pdf(t.ppf(alpha, df, h0_mean),df, h0_mean), linestyle='-', color = 'blue')\n",
    "        x_critical =  np.linspace(t.ppf(0.001, df, h0_mean),t.ppf(alpha, df, h0_mean),100)\n",
    "        y_critical = t.pdf(x_critical, df , h0_mean)\n",
    "        ax.fill_between(x_critical, y_critical,color='blue', alpha=0.5)\n",
    "\n",
    "        ax.set_title(f\"Rejection Rule of {alpha*100}% for Alternative H1: {beta} < 0 with {df} gl.\")\n",
    "        ax.annotate(\"% .2f\" % t.ppf(alpha, df, h0_mean), \n",
    "            xy= (t.ppf(alpha, df, h0_mean),0.01), \n",
    "            xytext=(t.ppf(alpha, df, h0_mean)-0.15, -0.02),\n",
    "            arrowprops=dict(arrowstyle=\"-\"))\n",
    "    elif kind == 'right':\n",
    "        ax.vlines(x= t.ppf(1-alpha, df, h0_mean), ymin = 0, ymax = t.pdf(t.ppf(1-alpha, df, h0_mean),df, h0_mean), linestyle='-', color = 'blue')\n",
    "        x_critical =  np.linspace(t.ppf(1-alpha, df, h0_mean),t.ppf(0.999, df, h0_mean),100)\n",
    "        y_critical = t.pdf(x_critical, df, h0_mean)\n",
    "        ax.fill_between(x_critical, y_critical,color='blue', alpha=0.5)\n",
    "\n",
    "        ax.set_title(f\"Rejection Rule of {alpha*100}% for Alternative H1: {beta} > 0 with {df} gl.\")\n",
    "        ax.annotate(\"% .2f\" % t.ppf(1- alpha, df, h0_mean), \n",
    "            xy= (t.ppf(1- alpha, df, h0_mean),0.01), \n",
    "            xytext=(t.ppf(1- alpha, df, h0_mean)-0.15, -0.02),\n",
    "            arrowprops=dict(arrowstyle=\"-\"))\n",
    "    elif kind == 'two-sided':\n",
    "        ax.vlines(x= t.ppf((alpha/2), df, h0_mean), ymin = 0, ymax = t.pdf(t.ppf((alpha/2), df, h0_mean), df, h0_mean), linestyle='-', color = 'blue')\n",
    "        ax.vlines(x= t.ppf(1-(alpha/2), df, h0_mean), ymin = 0, ymax = t.pdf(t.ppf(1-(alpha/2), df, h0_mean), df, h0_mean), linestyle='-', color = 'blue')\n",
    "\n",
    "        x_critical_lower = np.linspace(t.ppf(0.001, df, h0_mean),t.ppf((alpha/2), df, h0_mean),100)\n",
    "        y_critical_lower = t.pdf(x_critical_lower, df, h0_mean)\n",
    "\n",
    "        x_critical_upper =  np.linspace(t.ppf(1-(alpha/2), df, h0_mean),t.ppf(0.999, df, h0_mean),100)\n",
    "        y_critical_upper = t.pdf(x_critical_upper, df, h0_mean)\n",
    "\n",
    "        ax.fill_between(x_critical_lower, y_critical_lower,color='blue', alpha=0.5)\n",
    "        ax.fill_between(x_critical_upper, y_critical_upper,color='blue', alpha=0.5)\n",
    "\n",
    "        ax.set_title(f\"Rejection Rule of {alpha*100}% for Alternative H1: |{beta}| > 0 with {df} gl.\")\n",
    "        ax.annotate(\"% .2f\" % t.ppf(1- (alpha/2), df, h0_mean), \n",
    "            xy= (t.ppf(1- (alpha/2), df, h0_mean),0.01), \n",
    "            xytext=(t.ppf(1- (alpha/2), df, h0_mean) -0.15, -0.02),\n",
    "            arrowprops=dict(arrowstyle=\"-\"))\n",
    "\n",
    "        ax.annotate(\"% .2f\" % t.ppf((alpha/2), df, h0_mean), \n",
    "            xy= (t.ppf((alpha/2), df, h0_mean),0.01), \n",
    "            xytext=(t.ppf((alpha/2), df, h0_mean)-0.15, -0.02),\n",
    "            arrowprops=dict(arrowstyle=\"-\"))\n",
    "\n",
    "    height = t.pdf(t.ppf(0.5, df, h0_mean), df, h0_mean) + 0.01\n",
    "    ax.set_ylim(-0.03,height)\n",
    "\n",
    "    ax.annotate(\"% .2f\" % t_value, \n",
    "            xy= (t_value,0), \n",
    "            xytext=(t_value-0.15, -0.06),\n",
    "            bbox=dict(boxstyle=\"round4,pad=.5\", fc=\"0.9\"),\n",
    "            arrowprops=dict(arrowstyle=\"-\"))"
   ]
  },
  {
   "cell_type": "markdown",
   "metadata": {},
   "source": [
    "# Datasets"
   ]
  },
  {
   "cell_type": "code",
   "execution_count": 3,
   "metadata": {},
   "outputs": [],
   "source": [
    "file_path_ceosal = '../Datasets/ceosal1.xls'\n",
    "file_path_wage = '../Datasets/wage1.xls'\n",
    "file_path_vote = '../Datasets/vote1.xls'\n",
    "file_path_gpa = '../Datasets/gpa1.xls'\n",
    "file_path_meap = '../Datasets/meap93.xls'\n",
    "file_path_campus = '../Datasets/campus.xls'"
   ]
  },
  {
   "cell_type": "code",
   "execution_count": 4,
   "metadata": {},
   "outputs": [],
   "source": [
    "df_ceosal = pd.read_excel(file_path_ceosal)\n",
    "df_wage = pd.read_excel(file_path_wage)\n",
    "df_vote = pd.read_excel(file_path_vote)\n",
    "df_gpa = pd.read_excel(file_path_gpa)\n",
    "df_meap = pd.read_excel(file_path_meap)\n",
    "df_campus= pd.read_excel(file_path_campus)"
   ]
  },
  {
   "cell_type": "markdown",
   "metadata": {},
   "source": [
    "# Basic Linear Regression"
   ]
  },
  {
   "cell_type": "markdown",
   "metadata": {},
   "source": [
    "<ul>\n",
    "    <li>\n",
    "        <h4>Ejemplo 2.3</h4>\n",
    "    </li>\n",
    "</ul>\n",
    "\n",
    "<p>Dependent Variable: CEO salary in thoushands (salary).</p>\n",
    "<p>Independent Variables:</p>\n",
    "<ol>\n",
    "    <li>roe: Return on Equity.</li>\n",
    "</ol> "
   ]
  },
  {
   "cell_type": "code",
   "execution_count": 27,
   "metadata": {},
   "outputs": [
    {
     "name": "stdout",
     "output_type": "stream",
     "text": [
      "==============================================================================\n",
      "                 coef    std err          t      P>|t|      [0.025      0.975]\n",
      "------------------------------------------------------------------------------\n",
      "Intercept    963.1913    213.240      4.517      0.000     542.790    1383.592\n",
      "roe           18.5012     11.123      1.663      0.098      -3.428      40.431\n",
      "==============================================================================\n"
     ]
    }
   ],
   "source": [
    "model = smf.ols(\n",
    "    formula = 'salary ~ roe', \n",
    "    data = df_ceosal\n",
    ").fit()\n",
    "\n",
    "print(model.summary().tables[1])"
   ]
  },
  {
   "cell_type": "code",
   "execution_count": 17,
   "metadata": {},
   "outputs": [
    {
     "name": "stdout",
     "output_type": "stream",
     "text": [
      "R2: 0.013\n"
     ]
    }
   ],
   "source": [
    "print(\"R2: %.3f\" % model.rsquared)"
   ]
  },
  {
   "cell_type": "markdown",
   "metadata": {},
   "source": [
    "<ul>\n",
    "    <li>\n",
    "        <h4>Ejemplo 2.4</h4>\n",
    "    </li>\n",
    "</ul>\n",
    "\n",
    "<p>Dependent Variable: Average Hourly Earnings (wage).</p>\n",
    "<p>Independent Variables:</p>\n",
    "<ol>\n",
    "    <li>educ: Years of education.</li>\n",
    "</ol> "
   ]
  },
  {
   "cell_type": "code",
   "execution_count": 19,
   "metadata": {},
   "outputs": [
    {
     "name": "stdout",
     "output_type": "stream",
     "text": [
      "==============================================================================\n",
      "                 coef    std err          t      P>|t|      [0.025      0.975]\n",
      "------------------------------------------------------------------------------\n",
      "Intercept     -0.9049      0.685     -1.321      0.187      -2.250       0.441\n",
      "educ           0.5414      0.053     10.167      0.000       0.437       0.646\n",
      "==============================================================================\n"
     ]
    }
   ],
   "source": [
    "model = smf.ols(\n",
    "    formula = 'wage ~ educ',\n",
    "    data = df_wage\n",
    ").fit()\n",
    "\n",
    "print(model.summary().tables[1])"
   ]
  },
  {
   "cell_type": "code",
   "execution_count": 20,
   "metadata": {},
   "outputs": [
    {
     "name": "stdout",
     "output_type": "stream",
     "text": [
      "R2: 0.165\n"
     ]
    }
   ],
   "source": [
    "print(\"R2: %.3f\" % model.rsquared)"
   ]
  },
  {
   "cell_type": "markdown",
   "metadata": {},
   "source": [
    "<ul>\n",
    "    <li>\n",
    "        <h4>Ejemplo 2.5</h4>\n",
    "    </li>\n",
    "</ul>\n",
    "\n",
    "<p>Dependent Variable: Percent vote for A (voteA).</p>\n",
    "<p>Independent Variables:</p>\n",
    "<ol>\n",
    "    <li>expendA: campaign expends. by A, $1000s.</li>\n",
    "    <li>expendB: campaign expends. by B, $1000s.</li>\n",
    "    <li>shareA: 100*(expendA/(expendA+expendB)).</li>\n",
    "</ol> "
   ]
  },
  {
   "cell_type": "code",
   "execution_count": 21,
   "metadata": {},
   "outputs": [
    {
     "name": "stdout",
     "output_type": "stream",
     "text": [
      "==============================================================================\n",
      "                 coef    std err          t      P>|t|      [0.025      0.975]\n",
      "------------------------------------------------------------------------------\n",
      "Intercept     26.8125      0.887     30.222      0.000      25.061      28.564\n",
      "shareA         0.4638      0.015     31.901      0.000       0.435       0.493\n",
      "==============================================================================\n"
     ]
    }
   ],
   "source": [
    "model = smf.ols(\n",
    "    formula = 'voteA ~ shareA',\n",
    "    data = df_vote\n",
    ").fit()\n",
    "\n",
    "print(model.summary().tables[1])"
   ]
  },
  {
   "cell_type": "code",
   "execution_count": 22,
   "metadata": {},
   "outputs": [
    {
     "name": "stdout",
     "output_type": "stream",
     "text": [
      "R2: 0.856\n"
     ]
    }
   ],
   "source": [
    "print(\"R2: %.3f\" % model.rsquared)"
   ]
  },
  {
   "cell_type": "markdown",
   "metadata": {},
   "source": [
    "## Incorporating nonlinearities in Simple Regression"
   ]
  },
  {
   "cell_type": "markdown",
   "metadata": {},
   "source": [
    "<ul>\n",
    "    <li>\n",
    "        <h4>Ejemplo 2.10</h4>\n",
    "    </li>\n",
    "</ul>\n",
    "\n",
    "<p>Dependent Variable: Logarithmic of Average Hourly Earnings (lwage).</p>\n",
    "<p>Independent Variables:</p>\n",
    "<ol>\n",
    "    <li>educ: Years of education.</li>\n",
    "</ol> "
   ]
  },
  {
   "cell_type": "code",
   "execution_count": 23,
   "metadata": {},
   "outputs": [
    {
     "name": "stdout",
     "output_type": "stream",
     "text": [
      "==============================================================================\n",
      "                 coef    std err          t      P>|t|      [0.025      0.975]\n",
      "------------------------------------------------------------------------------\n",
      "Intercept      0.5838      0.097      5.998      0.000       0.393       0.775\n",
      "educ           0.0827      0.008     10.935      0.000       0.068       0.098\n",
      "==============================================================================\n"
     ]
    }
   ],
   "source": [
    "model = smf.ols(\n",
    "    formula = 'lwage ~ educ',\n",
    "    data = df_wage\n",
    ").fit()\n",
    "\n",
    "print(model.summary().tables[1])"
   ]
  },
  {
   "cell_type": "code",
   "execution_count": 24,
   "metadata": {},
   "outputs": [
    {
     "name": "stdout",
     "output_type": "stream",
     "text": [
      "R2: 0.186\n"
     ]
    }
   ],
   "source": [
    "print(\"R2: %.3f\" % model.rsquared)"
   ]
  },
  {
   "cell_type": "markdown",
   "metadata": {},
   "source": [
    "<ul>\n",
    "    <li>\n",
    "        <h4>Ejemplo 2.11</h4>\n",
    "    </li>\n",
    "</ul>\n",
    "\n",
    "<p>Dependent Variable: Logarithmic of CEO salary in thoushands (lsalary).</p>\n",
    "<p>Independent Variables:</p>\n",
    "<ol>\n",
    "    <li>lsales: Natural log of sales.</li>\n",
    "</ol> "
   ]
  },
  {
   "cell_type": "code",
   "execution_count": 25,
   "metadata": {},
   "outputs": [
    {
     "name": "stdout",
     "output_type": "stream",
     "text": [
      "==============================================================================\n",
      "                 coef    std err          t      P>|t|      [0.025      0.975]\n",
      "------------------------------------------------------------------------------\n",
      "Intercept      4.8220      0.288     16.723      0.000       4.254       5.390\n",
      "lsales         0.2567      0.035      7.436      0.000       0.189       0.325\n",
      "==============================================================================\n"
     ]
    }
   ],
   "source": [
    "model = smf.ols(\n",
    "    formula = 'lsalary ~ lsales',\n",
    "    data = df_ceosal\n",
    ").fit()\n",
    "\n",
    "print(model.summary().tables[1])"
   ]
  },
  {
   "cell_type": "code",
   "execution_count": 26,
   "metadata": {},
   "outputs": [
    {
     "name": "stdout",
     "output_type": "stream",
     "text": [
      "R2: 0.211\n"
     ]
    }
   ],
   "source": [
    "print(\"R2: %.3f\" % model.rsquared)"
   ]
  },
  {
   "cell_type": "markdown",
   "metadata": {},
   "source": [
    "## Multiple Linear Regression"
   ]
  },
  {
   "cell_type": "markdown",
   "metadata": {},
   "source": [
    "<ul>\n",
    " <li> Average hourly earnings explained as function of years of education and years of experience.</li>\n",
    "</ul>"
   ]
  },
  {
   "cell_type": "code",
   "execution_count": null,
   "metadata": {},
   "outputs": [
    {
     "data": {
      "text/html": [
       "<table class=\"simpletable\">\n",
       "<tr>\n",
       "      <td></td>         <th>coef</th>     <th>std err</th>      <th>t</th>      <th>P>|t|</th>  <th>[0.025</th>    <th>0.975]</th>  \n",
       "</tr>\n",
       "<tr>\n",
       "  <th>Intercept</th> <td>   -3.3905</td> <td>    0.767</td> <td>   -4.423</td> <td> 0.000</td> <td>   -4.896</td> <td>   -1.885</td>\n",
       "</tr>\n",
       "<tr>\n",
       "  <th>educ</th>      <td>    0.6443</td> <td>    0.054</td> <td>   11.974</td> <td> 0.000</td> <td>    0.539</td> <td>    0.750</td>\n",
       "</tr>\n",
       "<tr>\n",
       "  <th>exper</th>     <td>    0.0701</td> <td>    0.011</td> <td>    6.385</td> <td> 0.000</td> <td>    0.049</td> <td>    0.092</td>\n",
       "</tr>\n",
       "</table>"
      ],
      "text/plain": [
       "<class 'statsmodels.iolib.table.SimpleTable'>"
      ]
     },
     "execution_count": 11,
     "metadata": {},
     "output_type": "execute_result"
    }
   ],
   "source": [
    "model1 = smf.ols(\n",
    "    formula = 'wage ~ educ + exper',\n",
    "    data = df_wage\n",
    ").fit()\n",
    "\n",
    "model1.summary().tables[1]"
   ]
  },
  {
   "cell_type": "markdown",
   "metadata": {},
   "source": [
    "<ul>\n",
    " <li> College Grade Point Average explained as function of High School Grade Point Average and Achievement Score.</li>\n",
    "</ul>"
   ]
  },
  {
   "cell_type": "code",
   "execution_count": null,
   "metadata": {},
   "outputs": [
    {
     "data": {
      "text/html": [
       "<table class=\"simpletable\">\n",
       "<tr>\n",
       "      <td></td>         <th>coef</th>     <th>std err</th>      <th>t</th>      <th>P>|t|</th>  <th>[0.025</th>    <th>0.975]</th>  \n",
       "</tr>\n",
       "<tr>\n",
       "  <th>Intercept</th> <td>    1.2863</td> <td>    0.341</td> <td>    3.774</td> <td> 0.000</td> <td>    0.612</td> <td>    1.960</td>\n",
       "</tr>\n",
       "<tr>\n",
       "  <th>hsGPA</th>     <td>    0.4535</td> <td>    0.096</td> <td>    4.733</td> <td> 0.000</td> <td>    0.264</td> <td>    0.643</td>\n",
       "</tr>\n",
       "<tr>\n",
       "  <th>ACT</th>       <td>    0.0094</td> <td>    0.011</td> <td>    0.875</td> <td> 0.383</td> <td>   -0.012</td> <td>    0.031</td>\n",
       "</tr>\n",
       "</table>"
      ],
      "text/plain": [
       "<class 'statsmodels.iolib.table.SimpleTable'>"
      ]
     },
     "execution_count": 12,
     "metadata": {},
     "output_type": "execute_result"
    }
   ],
   "source": [
    "model2 = smf.ols(\n",
    "    formula = 'colGPA ~ hsGPA + ACT',\n",
    "    data = df_gpa\n",
    ").fit()\n",
    "\n",
    "model2.summary().tables[1]"
   ]
  },
  {
   "cell_type": "markdown",
   "metadata": {},
   "source": [
    "<ul>\n",
    " <li> Log hourly wage explained as function of years of education, years of experience and years with current employer.</li>\n",
    "</ul>"
   ]
  },
  {
   "cell_type": "code",
   "execution_count": null,
   "metadata": {},
   "outputs": [],
   "source": [
    "y, X = dmatrices('lwage ~ educ + exper + tenure', data= df_wage, return_type= 'dataframe')"
   ]
  },
  {
   "cell_type": "code",
   "execution_count": null,
   "metadata": {},
   "outputs": [
    {
     "name": "stdout",
     "output_type": "stream",
     "text": [
      "                            OLS Regression Results                            \n",
      "==============================================================================\n",
      "Dep. Variable:                  lwage   R-squared:                       0.316\n",
      "Model:                            OLS   Adj. R-squared:                  0.312\n",
      "Method:                 Least Squares   F-statistic:                     80.39\n",
      "Date:                Wed, 23 Nov 2022   Prob (F-statistic):           9.13e-43\n",
      "Time:                        16:18:44   Log-Likelihood:                -313.55\n",
      "No. Observations:                 526   AIC:                             635.1\n",
      "Df Residuals:                     522   BIC:                             652.2\n",
      "Df Model:                           3                                         \n",
      "Covariance Type:            nonrobust                                         \n",
      "==============================================================================\n",
      "                 coef    std err          t      P>|t|      [0.025      0.975]\n",
      "------------------------------------------------------------------------------\n",
      "Intercept      0.2844      0.104      2.729      0.007       0.080       0.489\n",
      "educ           0.0920      0.007     12.555      0.000       0.078       0.106\n",
      "exper          0.0041      0.002      2.391      0.017       0.001       0.008\n",
      "tenure         0.0221      0.003      7.133      0.000       0.016       0.028\n",
      "==============================================================================\n",
      "Omnibus:                       11.534   Durbin-Watson:                   1.769\n",
      "Prob(Omnibus):                  0.003   Jarque-Bera (JB):               20.941\n",
      "Skew:                           0.021   Prob(JB):                     2.84e-05\n",
      "Kurtosis:                       3.977   Cond. No.                         135.\n",
      "==============================================================================\n",
      "\n",
      "Notes:\n",
      "[1] Standard Errors assume that the covariance matrix of the errors is correctly specified.\n"
     ]
    }
   ],
   "source": [
    "mod = sm.OLS(y,X)\n",
    "res = mod.fit()\n",
    "\n",
    "print(res.summary()) "
   ]
  },
  {
   "cell_type": "code",
   "execution_count": null,
   "metadata": {},
   "outputs": [
    {
     "data": {
      "text/plain": [
       "True"
      ]
     },
     "execution_count": 35,
     "metadata": {},
     "output_type": "execute_result"
    }
   ],
   "source": [
    "res.use_t"
   ]
  },
  {
   "cell_type": "code",
   "execution_count": null,
   "metadata": {},
   "outputs": [
    {
     "name": "stdout",
     "output_type": "stream",
     "text": [
      "\u001b[0;31mType:\u001b[0m            RegressionResultsWrapper\n",
      "\u001b[0;31mString form:\u001b[0m     <statsmodels.regression.linear_model.RegressionResultsWrapper object at 0x7fe570821150>\n",
      "\u001b[0;31mFile:\u001b[0m            ~/anaconda3/envs/py/lib/python3.10/site-packages/statsmodels/regression/linear_model.py\n",
      "\u001b[0;31mDocstring:\u001b[0m      \n",
      "Results class for for an OLS model.\n",
      "\n",
      "Parameters\n",
      "----------\n",
      "model : RegressionModel\n",
      "    The regression model instance.\n",
      "params : ndarray\n",
      "    The estimated parameters.\n",
      "normalized_cov_params : ndarray\n",
      "    The normalized covariance parameters.\n",
      "scale : float\n",
      "    The estimated scale of the residuals.\n",
      "cov_type : str\n",
      "    The covariance estimator used in the results.\n",
      "cov_kwds : dict\n",
      "    Additional keywords used in the covariance specification.\n",
      "use_t : bool\n",
      "    Flag indicating to use the Student's t in inference.\n",
      "**kwargs\n",
      "    Additional keyword arguments used to initialize the results.\n",
      "\n",
      "See Also\n",
      "--------\n",
      "RegressionResults\n",
      "    Results store for WLS and GLW models.\n",
      "\n",
      "Notes\n",
      "-----\n",
      "Most of the methods and attributes are inherited from RegressionResults.\n",
      "The special methods that are only available for OLS are:\n",
      "\n",
      "- get_influence\n",
      "- outlier_test\n",
      "- el_test\n",
      "- conf_int_el\n",
      "\u001b[0;31mClass docstring:\u001b[0m\n",
      "Class which wraps a statsmodels estimation Results class and steps in to\n",
      "reattach metadata to results (if available)\n"
     ]
    }
   ],
   "source": [
    "res.normalized_cov_params"
   ]
  },
  {
   "cell_type": "markdown",
   "metadata": {},
   "source": [
    "## Multiple Linear Regression: Inference"
   ]
  },
  {
   "cell_type": "markdown",
   "metadata": {},
   "source": [
    "<ul>\n",
    "    <li>\n",
    "        <h4>Ejemplo 4.1</h4>\n",
    "    </li>\n",
    "</ul>\n",
    "\n",
    "<p>Dependent Variable: Logarithmic of Average Hourly Earnings (lwage).</p>\n",
    "<p>Independent Variables:</p>\n",
    "<ol>\n",
    "    <li>educ: Years of education.</li>\n",
    "    <li>exper: Years potential experience.</li>\n",
    "    <li>tenure: Years with current employer</li>\n",
    "</ol> "
   ]
  },
  {
   "cell_type": "code",
   "execution_count": null,
   "metadata": {},
   "outputs": [],
   "source": [
    "y = df_wage.lwage\n",
    "X = df_wage[['educ','exper','tenure']]\n",
    "X = sm.add_constant(X)"
   ]
  },
  {
   "cell_type": "code",
   "execution_count": null,
   "metadata": {},
   "outputs": [
    {
     "name": "stdout",
     "output_type": "stream",
     "text": [
      "==============================================================================\n",
      "                 coef    std err          t      P>|t|      [0.025      0.975]\n",
      "------------------------------------------------------------------------------\n",
      "const          0.2844      0.104      2.729      0.007       0.080       0.489\n",
      "educ           0.0920      0.007     12.555      0.000       0.078       0.106\n",
      "exper          0.0041      0.002      2.391      0.017       0.001       0.008\n",
      "tenure         0.0221      0.003      7.133      0.000       0.016       0.028\n",
      "==============================================================================\n"
     ]
    }
   ],
   "source": [
    "model = sm.OLS(y, X)\n",
    "results = model.fit()\n",
    "print(results.summary().tables[1])"
   ]
  },
  {
   "cell_type": "code",
   "execution_count": null,
   "metadata": {},
   "outputs": [
    {
     "name": "stdout",
     "output_type": "stream",
     "text": [
      "R2: 0.316\n"
     ]
    }
   ],
   "source": [
    "print(\"R2: %.3f\" % results.rsquared)"
   ]
  },
  {
   "cell_type": "markdown",
   "metadata": {},
   "source": [
    "<p>Null Hypothesis: exper = 0</p>\n",
    "<p>Alternative Hypothesis: exper > 0</p>"
   ]
  },
  {
   "cell_type": "code",
   "execution_count": null,
   "metadata": {},
   "outputs": [
    {
     "data": {
      "image/png": "[encoded data removed]",
      "text/plain": [
       "<Figure size 576x432 with 1 Axes>"
      ]
     },
     "metadata": {
      "needs_background": "light"
     },
     "output_type": "display_data"
    }
   ],
   "source": [
    "t_value = results.tvalues['exper']\n",
    "df = results.df_resid\n",
    "alpha = 0.01\n",
    "\n",
    "t_test_graph(t_value,df,alpha,kind = 'right')"
   ]
  },
  {
   "cell_type": "markdown",
   "metadata": {},
   "source": [
    "<ul>\n",
    "    <li>\n",
    "        <h4>Ejemplo 4.2</h4>\n",
    "    </li>\n",
    "</ul>\n",
    "\n",
    "<p>Dependent Variable: Percentage of students passing MEAP math (math10).*</p>\n",
    "<p>Independent Variables:</p>\n",
    "<ol>\n",
    "    <li>salary: Avg. teacher salary.</li>\n",
    "    <li>benefits: Avg. teacher benefits.</li>\n",
    "    <li>totcomp: salary + benefits.</li>\n",
    "    <li>staff: Staff per 1000 students.</li>\n",
    "    <li>enroll: School enrollment.</li>\n",
    "</ol>\n",
    "<p>* MEAP: Michigan Educational Assessment Program</p>"
   ]
  },
  {
   "cell_type": "code",
   "execution_count": null,
   "metadata": {},
   "outputs": [],
   "source": [
    "y = df_meap.math10\n",
    "X = df_meap[['totcomp','staff','enroll']]\n",
    "X = sm.add_constant(X)"
   ]
  },
  {
   "cell_type": "code",
   "execution_count": null,
   "metadata": {},
   "outputs": [
    {
     "name": "stdout",
     "output_type": "stream",
     "text": [
      "==============================================================================\n",
      "                 coef    std err          t      P>|t|      [0.025      0.975]\n",
      "------------------------------------------------------------------------------\n",
      "const          2.2740      6.114      0.372      0.710      -9.745      14.293\n",
      "totcomp        0.0005      0.000      4.570      0.000       0.000       0.001\n",
      "staff          0.0479      0.040      1.204      0.229      -0.030       0.126\n",
      "enroll        -0.0002      0.000     -0.918      0.359      -0.001       0.000\n",
      "==============================================================================\n"
     ]
    }
   ],
   "source": [
    "model = sm.OLS(y, X)\n",
    "results = model.fit()\n",
    "print(results.summary().tables[1])"
   ]
  },
  {
   "cell_type": "code",
   "execution_count": null,
   "metadata": {},
   "outputs": [
    {
     "name": "stdout",
     "output_type": "stream",
     "text": [
      "R2: 0.054\n"
     ]
    }
   ],
   "source": [
    "print(\"R2: %.3f\" % results.rsquared)"
   ]
  },
  {
   "cell_type": "markdown",
   "metadata": {},
   "source": [
    "<p>Null Hypothesis: enroll = 0</p>\n",
    "<p>Alternative Hypothesis: enroll < 0</p>"
   ]
  },
  {
   "cell_type": "code",
   "execution_count": null,
   "metadata": {},
   "outputs": [
    {
     "data": {
      "image/png": "[encoded data removed]",
      "text/plain": [
       "<Figure size 576x432 with 1 Axes>"
      ]
     },
     "metadata": {
      "needs_background": "light"
     },
     "output_type": "display_data"
    }
   ],
   "source": [
    "t_value = results.tvalues['enroll']\n",
    "df = results.df_resid\n",
    "alpha = 0.05\n",
    "\n",
    "t_test_graph(t_value,df,alpha,kind = 'left')"
   ]
  },
  {
   "cell_type": "markdown",
   "metadata": {},
   "source": [
    "<p>Dependent Variable: Percentage of students passing MEAP math (math10).*</p>\n",
    "<p>Independent Variables:</p>\n",
    "<ol>\n",
    "    <li>ltotcomp: Logarithmic of totcomp.</li>\n",
    "    <li>lstaff: Logarithmic of staff.</li>\n",
    "    <li>lenroll: Logarithmic of enroll.</li>\n",
    "</ol>\n",
    "<p>* MEAP: Michigan Educational Assessment Program</p>"
   ]
  },
  {
   "cell_type": "code",
   "execution_count": null,
   "metadata": {},
   "outputs": [],
   "source": [
    "y = df_meap.math10\n",
    "X = df_meap[['ltotcomp','lstaff','lenroll']]\n",
    "X = sm.add_constant(X)"
   ]
  },
  {
   "cell_type": "code",
   "execution_count": null,
   "metadata": {},
   "outputs": [
    {
     "name": "stdout",
     "output_type": "stream",
     "text": [
      "==============================================================================\n",
      "                 coef    std err          t      P>|t|      [0.025      0.975]\n",
      "------------------------------------------------------------------------------\n",
      "const       -207.6647     48.703     -4.264      0.000    -303.408    -111.922\n",
      "ltotcomp      21.1550      4.056      5.216      0.000      13.182      29.128\n",
      "lstaff         3.9800      4.190      0.950      0.343      -4.256      12.216\n",
      "lenroll       -1.2680      0.693     -1.829      0.068      -2.631       0.095\n",
      "==============================================================================\n"
     ]
    }
   ],
   "source": [
    "model = sm.OLS(y, X)\n",
    "results = model.fit()\n",
    "print(results.summary().tables[1])"
   ]
  },
  {
   "cell_type": "code",
   "execution_count": null,
   "metadata": {},
   "outputs": [
    {
     "name": "stdout",
     "output_type": "stream",
     "text": [
      "R2: 0.065\n"
     ]
    }
   ],
   "source": [
    "print(\"R2: %.3f\" % results.rsquared)"
   ]
  },
  {
   "cell_type": "markdown",
   "metadata": {},
   "source": [
    "<p>Null Hypothesis: lenroll = 0</p>\n",
    "<p>Alternative Hypothesis: lenroll < 0</p>"
   ]
  },
  {
   "cell_type": "code",
   "execution_count": null,
   "metadata": {},
   "outputs": [
    {
     "data": {
      "image/png": "[encoded data removed]",
      "text/plain": [
       "<Figure size 576x432 with 1 Axes>"
      ]
     },
     "metadata": {
      "needs_background": "light"
     },
     "output_type": "display_data"
    }
   ],
   "source": [
    "t_value = results.tvalues['lenroll']\n",
    "df = results.df_resid\n",
    "alpha = 0.05\n",
    "\n",
    "t_test_graph(t_value,df,alpha,kind = 'left')"
   ]
  },
  {
   "cell_type": "markdown",
   "metadata": {},
   "source": [
    "<ul>\n",
    "    <li>\n",
    "        <h4>Ejemplo 4.3</h4>\n",
    "    </li>\n",
    "</ul>\n",
    "\n",
    "<p>Dependent Variable: Grade Point Average (colGPA).</p>\n",
    "<p>Independent Variables:</p>\n",
    "<ol>\n",
    "    <li>hsGPA: High school GPA.</li>\n",
    "    <li>ACT: Achievement score.</li>\n",
    "    <li>skipped: Avg lectures missed per week.</li>\n",
    "</ol>"
   ]
  },
  {
   "cell_type": "code",
   "execution_count": null,
   "metadata": {},
   "outputs": [],
   "source": [
    "y = df_gpa.colGPA\n",
    "X = df_gpa[['hsGPA','ACT','skipped']]\n",
    "X = sm.add_constant(X)"
   ]
  },
  {
   "cell_type": "code",
   "execution_count": null,
   "metadata": {},
   "outputs": [
    {
     "name": "stdout",
     "output_type": "stream",
     "text": [
      "==============================================================================\n",
      "                 coef    std err          t      P>|t|      [0.025      0.975]\n",
      "------------------------------------------------------------------------------\n",
      "const          1.3896      0.332      4.191      0.000       0.734       2.045\n",
      "hsGPA          0.4118      0.094      4.396      0.000       0.227       0.597\n",
      "ACT            0.0147      0.011      1.393      0.166      -0.006       0.036\n",
      "skipped       -0.0831      0.026     -3.197      0.002      -0.135      -0.032\n",
      "==============================================================================\n"
     ]
    }
   ],
   "source": [
    "model = sm.OLS(y, X)\n",
    "results = model.fit()\n",
    "print(results.summary().tables[1])"
   ]
  },
  {
   "cell_type": "code",
   "execution_count": null,
   "metadata": {},
   "outputs": [
    {
     "name": "stdout",
     "output_type": "stream",
     "text": [
      "R2: 0.234\n"
     ]
    }
   ],
   "source": [
    "print(\"R2: %.3f\" % results.rsquared)"
   ]
  },
  {
   "cell_type": "markdown",
   "metadata": {},
   "source": [
    "<p>Null Hypothesis: skipped  = 0</p>\n",
    "<p>Alternative Hypothesis: |skipped| > 0</p>"
   ]
  },
  {
   "cell_type": "code",
   "execution_count": null,
   "metadata": {},
   "outputs": [
    {
     "data": {
      "image/png": "[encoded data removed]",
      "text/plain": [
       "<Figure size 576x432 with 1 Axes>"
      ]
     },
     "metadata": {
      "needs_background": "light"
     },
     "output_type": "display_data"
    }
   ],
   "source": [
    "t_value = results.tvalues['skipped']\n",
    "df = results.df_resid\n",
    "alpha = 0.01\n",
    "\n",
    "t_test_graph(t_value,df,alpha,kind = 'two-sided')"
   ]
  },
  {
   "cell_type": "markdown",
   "metadata": {},
   "source": [
    "<ul>\n",
    "    <li>\n",
    "        <h4>Ejemplo 4.4</h4>\n",
    "    </li>\n",
    "</ul>\n",
    "\n",
    "<p>Dependent Variable: Logarithmic of Total Campus Crimes (lcrime).</p>\n",
    "<p>Independent Variables:</p>\n",
    "<ol>\n",
    "    <li>enroll: Total enrollment.</li>\n",
    "    <li>lenroll: Logarithmic of total enrollment.</li>\n",
    "</ol>"
   ]
  },
  {
   "cell_type": "code",
   "execution_count": null,
   "metadata": {},
   "outputs": [],
   "source": [
    "y = df_campus.lcrime\n",
    "X = df_campus[['lenroll']]\n",
    "X = sm.add_constant(X)"
   ]
  },
  {
   "cell_type": "code",
   "execution_count": null,
   "metadata": {},
   "outputs": [
    {
     "name": "stdout",
     "output_type": "stream",
     "text": [
      "==============================================================================\n",
      "                 coef    std err          t      P>|t|      [0.025      0.975]\n",
      "------------------------------------------------------------------------------\n",
      "const         -6.6314      1.034     -6.416      0.000      -8.683      -4.580\n",
      "lenroll        1.2698      0.110     11.567      0.000       1.052       1.488\n",
      "==============================================================================\n"
     ]
    }
   ],
   "source": [
    "model = sm.OLS(y, X)\n",
    "results = model.fit()\n",
    "print(results.summary().tables[1])"
   ]
  },
  {
   "cell_type": "code",
   "execution_count": null,
   "metadata": {},
   "outputs": [
    {
     "name": "stdout",
     "output_type": "stream",
     "text": [
      "R2: 0.585\n"
     ]
    }
   ],
   "source": [
    "print(\"R2: %.3f\" % results.rsquared)"
   ]
  },
  {
   "cell_type": "markdown",
   "metadata": {},
   "source": [
    "<p>Null Hypothesis: lenroll  = 1</p>\n",
    "<p>Alternative Hypothesis: lenroll > 1</p>"
   ]
  },
  {
   "cell_type": "code",
   "execution_count": null,
   "metadata": {},
   "outputs": [
    {
     "data": {
      "image/png": "[encoded data removed]",
      "text/plain": [
       "<Figure size 576x432 with 1 Axes>"
      ]
     },
     "metadata": {
      "needs_background": "light"
     },
     "output_type": "display_data"
    }
   ],
   "source": [
    "t_value = results.tvalues['lenroll']\n",
    "df = results.df_resid\n",
    "alpha = 0.01\n",
    "\n",
    "t_test_graph(t_value,df,alpha,kind = 'right',h0_mean=1)"
   ]
  },
  {
   "cell_type": "code",
   "execution_count": null,
   "metadata": {},
   "outputs": [
    {
     "data": {
      "text/plain": [
       "11.566826888885652"
      ]
     },
     "execution_count": 356,
     "metadata": {},
     "output_type": "execute_result"
    }
   ],
   "source": [
    "t_value"
   ]
  },
  {
   "cell_type": "markdown",
   "metadata": {},
   "source": [
    "<ul>\n",
    "    <li>\n",
    "        <h4>Ejemplo 4.5</h4>\n",
    "    </li>\n",
    "</ul>\n",
    "\n",
    "<p>Dependent Variable: Logarithmic of House Price (lprice).</p>\n",
    "<p>Independent Variables:</p>\n",
    "<ol>\n",
    "    <li>nox: Nitrous Oxide, parts per 100 mill.</li>\n",
    "    <li>dist: Weighted dist. to 5 employ centers.</li>\n",
    "</ol>"
   ]
  },
  {
   "cell_type": "code",
   "execution_count": null,
   "metadata": {},
   "outputs": [
    {
     "name": "stdout",
     "output_type": "stream",
     "text": [
      "                             Test for Constraints                             \n",
      "==============================================================================\n",
      "                 coef    std err          t      P>|t|      [0.025      0.975]\n",
      "------------------------------------------------------------------------------\n",
      "c0             1.2698      0.110      2.457      0.016       1.052       1.488\n",
      "==============================================================================\n"
     ]
    }
   ],
   "source": []
  },
  {
   "cell_type": "code",
   "execution_count": null,
   "metadata": {},
   "outputs": [
    {
     "data": {
      "text/plain": [
       "1.9836363636363632"
      ]
     },
     "execution_count": 27,
     "metadata": {},
     "output_type": "execute_result"
    }
   ],
   "source": [
    "t = (1.488 - 1.2698)/0.110\n",
    "t"
   ]
  },
  {
   "cell_type": "code",
   "execution_count": null,
   "metadata": {},
   "outputs": [
    {
     "data": {
      "text/html": [
       "<table class=\"simpletable\">\n",
       "<caption>OLS Regression Results</caption>\n",
       "<tr>\n",
       "  <th>Dep. Variable:</th>         <td>lcrime</td>      <th>  R-squared:         </th> <td>   0.585</td>\n",
       "</tr>\n",
       "<tr>\n",
       "  <th>Model:</th>                   <td>OLS</td>       <th>  Adj. R-squared:    </th> <td>   0.580</td>\n",
       "</tr>\n",
       "<tr>\n",
       "  <th>Method:</th>             <td>Least Squares</td>  <th>  F-statistic:       </th> <td>   133.8</td>\n",
       "</tr>\n",
       "<tr>\n",
       "  <th>Date:</th>             <td>Fri, 02 Dec 2022</td> <th>  Prob (F-statistic):</th> <td>7.83e-20</td>\n",
       "</tr>\n",
       "<tr>\n",
       "  <th>Time:</th>                 <td>00:31:38</td>     <th>  Log-Likelihood:    </th> <td> -125.83</td>\n",
       "</tr>\n",
       "<tr>\n",
       "  <th>No. Observations:</th>      <td>    97</td>      <th>  AIC:               </th> <td>   255.7</td>\n",
       "</tr>\n",
       "<tr>\n",
       "  <th>Df Residuals:</th>          <td>    95</td>      <th>  BIC:               </th> <td>   260.8</td>\n",
       "</tr>\n",
       "<tr>\n",
       "  <th>Df Model:</th>              <td>     1</td>      <th>                     </th>     <td> </td>   \n",
       "</tr>\n",
       "<tr>\n",
       "  <th>Covariance Type:</th>      <td>nonrobust</td>    <th>                     </th>     <td> </td>   \n",
       "</tr>\n",
       "</table>"
      ],
      "text/plain": [
       "<class 'statsmodels.iolib.table.SimpleTable'>"
      ]
     },
     "execution_count": 32,
     "metadata": {},
     "output_type": "execute_result"
    }
   ],
   "source": [
    "results.summary().tables[0]"
   ]
  }
 ],
 "metadata": {
  "kernelspec": {
   "display_name": "Python 3.10.4 ('py')",
   "language": "python",
   "name": "python3"
  },
  "language_info": {
   "codemirror_mode": {
    "name": "ipython",
    "version": 3
   },
   "file_extension": ".py",
   "mimetype": "text/x-python",
   "name": "python",
   "nbconvert_exporter": "python",
   "pygments_lexer": "ipython3",
   "version": "3.10.4"
  },
  "orig_nbformat": 4,
  "vscode": {
   "interpreter": {
    "hash": "ca09a73babb3efff70dc4c8d9ed6e57daa2912896578fe63f022cbea8855a026"
   }
  }
 },
 "nbformat": 4,
 "nbformat_minor": 2
}
